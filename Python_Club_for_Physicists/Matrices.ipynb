{
 "cells": [
  {
   "cell_type": "markdown",
   "metadata": {},
   "source": [
    "# Introducción"
   ]
  },
  {
   "cell_type": "markdown",
   "metadata": {},
   "source": [
    "Además del cálculo, una de las herramientas matemáticas fundamentales para la física es el álgebra lineal, cuyos objetos principales de estudio son los vectores y las matrices. En la sesión de esta semana veremos como trabajar con estas en $\\texttt{python}$, tanto de manera simbólica como numérica. Haremos énfasis principalmente en la obtención de los autovalores y autovectores de una matriz, y lo aplicaremos a la resolución de problemas en mecánica cuántica y oscilaciones."
   ]
  },
  {
   "cell_type": "markdown",
   "metadata": {},
   "source": [
    "# Matrices simbólicas"
   ]
  },
  {
   "cell_type": "markdown",
   "metadata": {},
   "source": [
    "La manera más sencilla de definir una matriz es como un arreglo (en general) rectangular de números, por ejemplo\n",
    "\n",
    "$$\n",
    "A = \\left(\n",
    "\\begin{matrix}\n",
    "-2 & -4 & 2 \\\\\n",
    "-2 & 1 & 2 \\\\\n",
    "4 & 2 & 5\n",
    "\\end{matrix}\n",
    "\\right).\n",
    "$$\n",
    "\n",
    "Para definir esta matriz de manera simbólica usamos el paquete $\\texttt{sympy}$, en particular, el comando $\\texttt{Matrix}$"
   ]
  },
  {
   "cell_type": "code",
   "execution_count": 1,
   "metadata": {},
   "outputs": [],
   "source": [
    "import sympy as sp\n",
    "sp.init_printing()"
   ]
  },
  {
   "cell_type": "code",
   "execution_count": 2,
   "metadata": {},
   "outputs": [
    {
     "data": {
      "text/latex": [
       "$\\displaystyle \\left[\\begin{matrix}-2 & -4 & 2\\\\-2 & 1 & 2\\\\4 & 2 & 5\\end{matrix}\\right]$"
      ],
      "text/plain": [
       "⎡-2  -4  2⎤\n",
       "⎢         ⎥\n",
       "⎢-2  1   2⎥\n",
       "⎢         ⎥\n",
       "⎣4   2   5⎦"
      ]
     },
     "execution_count": 2,
     "metadata": {},
     "output_type": "execute_result"
    }
   ],
   "source": [
    "A = sp.Matrix([[-2, -4, 2], \n",
    "               [-2, 1, 2],\n",
    "               [4, 2, 5]])\n",
    "\n",
    "A"
   ]
  },
  {
   "cell_type": "code",
   "execution_count": 10,
   "metadata": {},
   "outputs": [
    {
     "data": {
      "text/latex": [
       "$\\displaystyle \\left[\\begin{matrix}1 - i & 4 & \\frac{1}{2}\\\\0 & - i & 2\\\\1 & 2 & 5\\end{matrix}\\right]$"
      ],
      "text/plain": [
       "⎡1 - ⅈ  4   1/2⎤\n",
       "⎢              ⎥\n",
       "⎢  0    -ⅈ   2 ⎥\n",
       "⎢              ⎥\n",
       "⎣  1    2    5 ⎦"
      ]
     },
     "execution_count": 10,
     "metadata": {},
     "output_type": "execute_result"
    }
   ],
   "source": [
    "B = sp.Matrix([[1-sp.I, 4, sp.Rational(1,2)], # sp.Rational(numerador,denominador): para que muestre una fracción\n",
    "               [0, -1*sp.I, 2], \n",
    "               [1, 2, 5]])\n",
    "\n",
    "B"
   ]
  },
  {
   "cell_type": "code",
   "execution_count": 11,
   "metadata": {},
   "outputs": [
    {
     "data": {
      "image/png": "[encoded data removed]",
      "text/latex": [
       "$\\displaystyle 1 - i$"
      ],
      "text/plain": [
       "1 - ⅈ"
      ]
     },
     "execution_count": 11,
     "metadata": {},
     "output_type": "execute_result"
    }
   ],
   "source": [
    "B[0,0] #como en numpy"
   ]
  },
  {
   "cell_type": "markdown",
   "metadata": {},
   "source": [
    "$\\texttt{sp.I} = i$, la unidad imaginaria"
   ]
  },
  {
   "cell_type": "markdown",
   "metadata": {},
   "source": [
    "## Operaciones básicas"
   ]
  },
  {
   "cell_type": "markdown",
   "metadata": {},
   "source": [
    "*Nota:* Antes de realizar alguna operación, verificar siempre que las matrices tengan las dimensiones adecuadas. Caso contrario, $\\texttt{python}$ dará un error."
   ]
  },
  {
   "cell_type": "markdown",
   "metadata": {},
   "source": [
    "Suma "
   ]
  },
  {
   "cell_type": "code",
   "execution_count": 12,
   "metadata": {},
   "outputs": [
    {
     "data": {
      "text/latex": [
       "$\\displaystyle \\left[\\begin{matrix}-1 - i & 0 & \\frac{5}{2}\\\\-2 & 1 - i & 4\\\\5 & 4 & 10\\end{matrix}\\right]$"
      ],
      "text/plain": [
       "⎡-1 - ⅈ    0    5/2⎤\n",
       "⎢                  ⎥\n",
       "⎢  -2    1 - ⅈ   4 ⎥\n",
       "⎢                  ⎥\n",
       "⎣  5       4    10 ⎦"
      ]
     },
     "execution_count": 12,
     "metadata": {},
     "output_type": "execute_result"
    }
   ],
   "source": [
    "A + B"
   ]
  },
  {
   "cell_type": "markdown",
   "metadata": {},
   "source": [
    "Resta"
   ]
  },
  {
   "cell_type": "code",
   "execution_count": 13,
   "metadata": {},
   "outputs": [
    {
     "data": {
      "text/latex": [
       "$\\displaystyle \\left[\\begin{matrix}-3 + i & -8 & \\frac{3}{2}\\\\-2 & 1 + i & 0\\\\3 & 0 & 0\\end{matrix}\\right]$"
      ],
      "text/plain": [
       "⎡-3 + ⅈ   -8    3/2⎤\n",
       "⎢                  ⎥\n",
       "⎢  -2    1 + ⅈ   0 ⎥\n",
       "⎢                  ⎥\n",
       "⎣  3       0     0 ⎦"
      ]
     },
     "execution_count": 13,
     "metadata": {},
     "output_type": "execute_result"
    }
   ],
   "source": [
    "A - B"
   ]
  },
  {
   "cell_type": "markdown",
   "metadata": {},
   "source": [
    "Multiplicación por un escalar"
   ]
  },
  {
   "cell_type": "code",
   "execution_count": 14,
   "metadata": {},
   "outputs": [
    {
     "data": {
      "text/latex": [
       "$\\displaystyle \\left[\\begin{matrix}-0.6 & -1.2 & 0.6\\\\-0.6 & 0.3 & 0.6\\\\1.2 & 0.6 & 1.5\\end{matrix}\\right]$"
      ],
      "text/plain": [
       "⎡-0.6  -1.2  0.6⎤\n",
       "⎢               ⎥\n",
       "⎢-0.6  0.3   0.6⎥\n",
       "⎢               ⎥\n",
       "⎣1.2   0.6   1.5⎦"
      ]
     },
     "execution_count": 14,
     "metadata": {},
     "output_type": "execute_result"
    }
   ],
   "source": [
    "0.3*A"
   ]
  },
  {
   "cell_type": "code",
   "execution_count": 15,
   "metadata": {},
   "outputs": [
    {
     "data": {
      "text/latex": [
       "$\\displaystyle \\left[\\begin{matrix}-1 & -2 & 1\\\\-1 & \\frac{1}{2} & 1\\\\2 & 1 & \\frac{5}{2}\\end{matrix}\\right]$"
      ],
      "text/plain": [
       "⎡-1  -2    1 ⎤\n",
       "⎢            ⎥\n",
       "⎢-1  1/2   1 ⎥\n",
       "⎢            ⎥\n",
       "⎣2    1   5/2⎦"
      ]
     },
     "execution_count": 15,
     "metadata": {},
     "output_type": "execute_result"
    }
   ],
   "source": [
    "sp.Rational(1, 2)*A"
   ]
  },
  {
   "cell_type": "markdown",
   "metadata": {},
   "source": [
    "Multiplicación de matrices"
   ]
  },
  {
   "cell_type": "code",
   "execution_count": 16,
   "metadata": {},
   "outputs": [
    {
     "data": {
      "text/latex": [
       "$\\displaystyle \\left[\\begin{matrix}2 i & -4 + 4 i & 1\\\\2 i & -4 - i & 11\\\\9 - 4 i & 26 - 2 i & 31\\end{matrix}\\right]$"
      ],
      "text/plain": [
       "⎡  2⋅ⅈ    -4 + 4⋅ⅈ  1 ⎤\n",
       "⎢                     ⎥\n",
       "⎢  2⋅ⅈ     -4 - ⅈ   11⎥\n",
       "⎢                     ⎥\n",
       "⎣9 - 4⋅ⅈ  26 - 2⋅ⅈ  31⎦"
      ]
     },
     "execution_count": 16,
     "metadata": {},
     "output_type": "execute_result"
    }
   ],
   "source": [
    "A*B"
   ]
  },
  {
   "cell_type": "markdown",
   "metadata": {},
   "source": [
    "Potencia "
   ]
  },
  {
   "cell_type": "code",
   "execution_count": 17,
   "metadata": {},
   "outputs": [
    {
     "data": {
      "text/latex": [
       "$\\displaystyle \\left[\\begin{matrix}\\frac{1}{2} - 2 i & 5 - 8 i & 11 - \\frac{i}{2}\\\\2 & 3 & 10 - 2 i\\\\6 - i & 14 - 2 i & \\frac{59}{2}\\end{matrix}\\right]$"
      ],
      "text/plain": [
       "⎡                           ⅈ ⎤\n",
       "⎢1/2 - 2⋅ⅈ  5 - 8⋅ⅈ    11 - ─ ⎥\n",
       "⎢                           2 ⎥\n",
       "⎢                             ⎥\n",
       "⎢    2         3      10 - 2⋅ⅈ⎥\n",
       "⎢                             ⎥\n",
       "⎣  6 - ⅈ    14 - 2⋅ⅈ    59/2  ⎦"
      ]
     },
     "execution_count": 17,
     "metadata": {},
     "output_type": "execute_result"
    }
   ],
   "source": [
    "#B**2 = B*B\n",
    "sp.simplify(B**2)"
   ]
  },
  {
   "cell_type": "markdown",
   "metadata": {},
   "source": [
    "Es posible mezclar estas operaciones algebraicas."
   ]
  },
  {
   "cell_type": "code",
   "execution_count": 19,
   "metadata": {},
   "outputs": [
    {
     "data": {
      "text/latex": [
       "$\\displaystyle \\left[\\begin{matrix}-0.1 + 2.4 i & -5.0 + 5.6 i & -1.2 + 0.1 i\\\\-0.4 + 2 i & -4.6 - i & 9.0 + 0.4 i\\\\7.8 - 3.8 i & 23.2 - 1.6 i & 25.1\\end{matrix}\\right]$"
      ],
      "text/plain": [
       "⎡-0.1 + 2.4⋅ⅈ  -5.0 + 5.6⋅ⅈ  -1.2 + 0.1⋅ⅈ⎤\n",
       "⎢                                        ⎥\n",
       "⎢ -0.4 + 2⋅ⅈ     -4.6 - ⅈ    9.0 + 0.4⋅ⅈ ⎥\n",
       "⎢                                        ⎥\n",
       "⎣7.8 - 3.8⋅ⅈ   23.2 - 1.6⋅ⅈ      25.1    ⎦"
      ]
     },
     "execution_count": 19,
     "metadata": {},
     "output_type": "execute_result"
    }
   ],
   "source": [
    "sp.simplify(A*B - 0.2*B**2)"
   ]
  },
  {
   "cell_type": "markdown",
   "metadata": {},
   "source": [
    "Transpuesta $A^T$"
   ]
  },
  {
   "cell_type": "code",
   "execution_count": 18,
   "metadata": {},
   "outputs": [
    {
     "data": {
      "text/latex": [
       "$\\displaystyle \\left[\\begin{matrix}-2 & -2 & 4\\\\-4 & 1 & 2\\\\2 & 2 & 5\\end{matrix}\\right]$"
      ],
      "text/plain": [
       "⎡-2  -2  4⎤\n",
       "⎢         ⎥\n",
       "⎢-4  1   2⎥\n",
       "⎢         ⎥\n",
       "⎣2   2   5⎦"
      ]
     },
     "execution_count": 18,
     "metadata": {},
     "output_type": "execute_result"
    }
   ],
   "source": [
    "A.T"
   ]
  },
  {
   "cell_type": "markdown",
   "metadata": {},
   "source": [
    "Adjunta\n",
    "\n",
    "$$\n",
    "A^\\dagger = \\left(A^T\\right)^*\n",
    "$$"
   ]
  },
  {
   "cell_type": "code",
   "execution_count": 20,
   "metadata": {},
   "outputs": [
    {
     "data": {
      "text/latex": [
       "$\\displaystyle \\left[\\begin{matrix}1 + i & 0 & 1\\\\4 & i & 2\\\\\\frac{1}{2} & 2 & 5\\end{matrix}\\right]$"
      ],
      "text/plain": [
       "⎡1 + ⅈ  0  1⎤\n",
       "⎢           ⎥\n",
       "⎢  4    ⅈ  2⎥\n",
       "⎢           ⎥\n",
       "⎣ 1/2   2  5⎦"
      ]
     },
     "execution_count": 20,
     "metadata": {},
     "output_type": "execute_result"
    }
   ],
   "source": [
    "from sympy.physics.quantum.dagger import Dagger\n",
    "Dagger(B)"
   ]
  },
  {
   "cell_type": "markdown",
   "metadata": {},
   "source": [
    "Determinante"
   ]
  },
  {
   "cell_type": "code",
   "execution_count": 21,
   "metadata": {},
   "outputs": [
    {
     "data": {
      "image/png": "[encoded data removed]",
      "text/latex": [
       "$\\displaystyle -1 - \\frac{i}{2}$"
      ],
      "text/plain": [
       "     ⅈ\n",
       "-1 - ─\n",
       "     2"
      ]
     },
     "execution_count": 21,
     "metadata": {},
     "output_type": "execute_result"
    }
   ],
   "source": [
    "sp.simplify(B.det())"
   ]
  },
  {
   "cell_type": "markdown",
   "metadata": {},
   "source": [
    "Inversa $A^{-1}$\n",
    "\n",
    "$$\n",
    "A^{-1} A = AA^{-1} = I\n",
    "$$"
   ]
  },
  {
   "cell_type": "code",
   "execution_count": 24,
   "metadata": {},
   "outputs": [
    {
     "data": {
      "text/latex": [
       "$\\displaystyle \\left[\\begin{matrix}- \\frac{1}{90} & - \\frac{4}{15} & \\frac{1}{9}\\\\- \\frac{1}{5} & \\frac{1}{5} & 0\\\\\\frac{4}{45} & \\frac{2}{15} & \\frac{1}{9}\\end{matrix}\\right]$"
      ],
      "text/plain": [
       "⎡-1/90  -4/15  1/9⎤\n",
       "⎢                 ⎥\n",
       "⎢-1/5    1/5    0 ⎥\n",
       "⎢                 ⎥\n",
       "⎣4/45   2/15   1/9⎦"
      ]
     },
     "execution_count": 24,
     "metadata": {},
     "output_type": "execute_result"
    }
   ],
   "source": [
    "A**(-1)"
   ]
  },
  {
   "cell_type": "code",
   "execution_count": 25,
   "metadata": {},
   "outputs": [
    {
     "data": {
      "text/latex": [
       "$\\displaystyle \\left[\\begin{matrix}\\frac{26}{5} + \\frac{12 i}{5} & \\frac{76}{5} - \\frac{38 i}{5} & - \\frac{33}{5} + \\frac{14 i}{5}\\\\- \\frac{8}{5} + \\frac{4 i}{5} & - \\frac{8}{5} + \\frac{29 i}{5} & \\frac{4}{5} - \\frac{12 i}{5}\\\\\\frac{2 i \\left(-2 + i\\right)}{5} & - \\frac{12}{5} - \\frac{4 i}{5} & \\frac{6}{5} + \\frac{2 i}{5}\\end{matrix}\\right]$"
      ],
      "text/plain": [
       "⎡ 26   12⋅ⅈ    76   38⋅ⅈ     33   14⋅ⅈ⎤\n",
       "⎢ ── + ────    ── - ────   - ── + ────⎥\n",
       "⎢ 5     5      5     5       5     5  ⎥\n",
       "⎢                                     ⎥\n",
       "⎢   8   4⋅ⅈ      8   29⋅ⅈ   4   12⋅ⅈ  ⎥\n",
       "⎢ - ─ + ───    - ─ + ────   ─ - ────  ⎥\n",
       "⎢   5    5       5    5     5    5    ⎥\n",
       "⎢                                     ⎥\n",
       "⎢2⋅ⅈ⋅(-2 + ⅈ)    12   4⋅ⅈ    6   2⋅ⅈ  ⎥\n",
       "⎢────────────  - ── - ───    ─ + ───  ⎥\n",
       "⎣     5          5     5     5    5   ⎦"
      ]
     },
     "execution_count": 25,
     "metadata": {},
     "output_type": "execute_result"
    }
   ],
   "source": [
    "sp.simplify(B**(-1))"
   ]
  },
  {
   "cell_type": "markdown",
   "metadata": {},
   "source": [
    "## Algunas matrices especiales"
   ]
  },
  {
   "cell_type": "markdown",
   "metadata": {},
   "source": [
    "Matrix identidad $I$\n",
    "\n",
    "$$\n",
    "IA = AI = A\n",
    "$$"
   ]
  },
  {
   "cell_type": "code",
   "execution_count": 77,
   "metadata": {},
   "outputs": [
    {
     "data": {
      "image/png": "[encoded data removed]",
      "text/latex": [
       "$\\displaystyle \\left[\\begin{matrix}1 & 0 & 0\\\\0 & 1 & 0\\\\0 & 0 & 1\\end{matrix}\\right]$"
      ],
      "text/plain": [
       "⎡1  0  0⎤\n",
       "⎢       ⎥\n",
       "⎢0  1  0⎥\n",
       "⎢       ⎥\n",
       "⎣0  0  1⎦"
      ]
     },
     "execution_count": 77,
     "metadata": {},
     "output_type": "execute_result"
    }
   ],
   "source": [
    "sp.eye(3)"
   ]
  },
  {
   "cell_type": "markdown",
   "metadata": {},
   "source": [
    "Matriz de ceros"
   ]
  },
  {
   "cell_type": "code",
   "execution_count": 78,
   "metadata": {},
   "outputs": [
    {
     "data": {
      "image/png": "[encoded data removed]",
      "text/latex": [
       "$\\displaystyle \\left[\\begin{matrix}0 & 0 & 0\\\\0 & 0 & 0\\\\0 & 0 & 0\\end{matrix}\\right]$"
      ],
      "text/plain": [
       "⎡0  0  0⎤\n",
       "⎢       ⎥\n",
       "⎢0  0  0⎥\n",
       "⎢       ⎥\n",
       "⎣0  0  0⎦"
      ]
     },
     "execution_count": 78,
     "metadata": {},
     "output_type": "execute_result"
    }
   ],
   "source": [
    "sp.zeros(3)"
   ]
  },
  {
   "cell_type": "markdown",
   "metadata": {},
   "source": [
    "Matriz de unos"
   ]
  },
  {
   "cell_type": "code",
   "execution_count": 79,
   "metadata": {},
   "outputs": [
    {
     "data": {
      "image/png": "[encoded data removed]",
      "text/latex": [
       "$\\displaystyle \\left[\\begin{matrix}1 & 1 & 1\\\\1 & 1 & 1\\\\1 & 1 & 1\\end{matrix}\\right]$"
      ],
      "text/plain": [
       "⎡1  1  1⎤\n",
       "⎢       ⎥\n",
       "⎢1  1  1⎥\n",
       "⎢       ⎥\n",
       "⎣1  1  1⎦"
      ]
     },
     "execution_count": 79,
     "metadata": {},
     "output_type": "execute_result"
    }
   ],
   "source": [
    "sp.ones(3)"
   ]
  },
  {
   "cell_type": "markdown",
   "metadata": {},
   "source": [
    "Matriz diagonal"
   ]
  },
  {
   "cell_type": "code",
   "execution_count": 28,
   "metadata": {},
   "outputs": [
    {
     "data": {
      "text/latex": [
       "$\\displaystyle \\left[\\begin{matrix}-3 & 0 & 0 & 0 & 0 & 0\\\\0 & 1 & 0 & 0 & 0 & 0\\\\0 & 0 & 6 & 0 & 0 & 0\\\\0 & 0 & 0 & 1 & 0 & 0\\\\0 & 0 & 0 & 0 & 1 & 0\\\\0 & 0 & 0 & 0 & 0 & i\\end{matrix}\\right]$"
      ],
      "text/plain": [
       "⎡-3  0  0  0  0  0⎤\n",
       "⎢                 ⎥\n",
       "⎢0   1  0  0  0  0⎥\n",
       "⎢                 ⎥\n",
       "⎢0   0  6  0  0  0⎥\n",
       "⎢                 ⎥\n",
       "⎢0   0  0  1  0  0⎥\n",
       "⎢                 ⎥\n",
       "⎢0   0  0  0  1  0⎥\n",
       "⎢                 ⎥\n",
       "⎣0   0  0  0  0  ⅈ⎦"
      ]
     },
     "execution_count": 28,
     "metadata": {},
     "output_type": "execute_result"
    }
   ],
   "source": [
    "sp.diag(-3, 1, 6,sp.eye(2),sp.I) # sp.diag(elementos de la diagonal)"
   ]
  },
  {
   "cell_type": "markdown",
   "metadata": {},
   "source": [
    "También es posible incluir variables en una matriz."
   ]
  },
  {
   "cell_type": "code",
   "execution_count": 33,
   "metadata": {},
   "outputs": [
    {
     "data": {
      "text/latex": [
       "$\\displaystyle \\left[\\begin{matrix}- x & - y & x\\\\x^{2} & 0 & e^{- x y}\\\\y & 2 x + y & 0\\end{matrix}\\right]$"
      ],
      "text/plain": [
       "⎡-x    -y       x  ⎤\n",
       "⎢                  ⎥\n",
       "⎢ 2            -x⋅y⎥\n",
       "⎢x      0     ℯ    ⎥\n",
       "⎢                  ⎥\n",
       "⎣y   2⋅x + y    0  ⎦"
      ]
     },
     "execution_count": 33,
     "metadata": {},
     "output_type": "execute_result"
    }
   ],
   "source": [
    "x, y = sp.symbols('x, y')\n",
    "\n",
    "C = sp.Matrix([[-x, -y, x],\n",
    "               [x**2, 0, sp.exp(-x*y)],\n",
    "               [y, 2*x + y, 0]])\n",
    "\n",
    "C"
   ]
  },
  {
   "cell_type": "code",
   "execution_count": 34,
   "metadata": {},
   "outputs": [
    {
     "data": {
      "text/latex": [
       "$\\displaystyle \\left[\\begin{matrix}- x - 2 & - y - 4 & x + 2\\\\x^{2} - 2 & 1 & 2 + e^{- x y}\\\\y + 4 & 2 x + y + 2 & 5\\end{matrix}\\right]$"
      ],
      "text/plain": [
       "⎡-x - 2    -y - 4       x + 2  ⎤\n",
       "⎢                              ⎥\n",
       "⎢ 2                        -x⋅y⎥\n",
       "⎢x  - 2       1       2 + ℯ    ⎥\n",
       "⎢                              ⎥\n",
       "⎣y + 4   2⋅x + y + 2      5    ⎦"
      ]
     },
     "execution_count": 34,
     "metadata": {},
     "output_type": "execute_result"
    }
   ],
   "source": [
    "A + C"
   ]
  },
  {
   "cell_type": "code",
   "execution_count": 35,
   "metadata": {},
   "outputs": [
    {
     "data": {
      "image/png": "[encoded data removed]",
      "text/latex": [
       "$\\displaystyle x^{3} \\left(2 x + y\\right) + x \\left(2 x + y\\right) e^{- x y} - y^{2} e^{- x y}$"
      ],
      "text/plain": [
       " 3                          -x⋅y    2  -x⋅y\n",
       "x ⋅(2⋅x + y) + x⋅(2⋅x + y)⋅ℯ     - y ⋅ℯ    "
      ]
     },
     "execution_count": 35,
     "metadata": {},
     "output_type": "execute_result"
    }
   ],
   "source": [
    "C.det()"
   ]
  },
  {
   "cell_type": "code",
   "execution_count": 36,
   "metadata": {},
   "outputs": [
    {
     "data": {
      "text/latex": [
       "$\\displaystyle \\left[\\begin{matrix}- \\frac{2 x + y}{x^{2} y^{2} e^{x y} + \\left(x \\left(2 x + y\\right) - y^{2}\\right) \\left(x^{2} e^{x y} + 1\\right)} & \\frac{x \\left(2 x + y\\right) e^{x y}}{2 x^{4} e^{x y} + x^{3} y e^{x y} + 2 x^{2} + x y - y^{2}} & - \\frac{y}{x^{2} y^{2} e^{x y} + \\left(x \\left(2 x + y\\right) - y^{2}\\right) \\left(x^{2} e^{x y} + 1\\right)}\\\\\\frac{y}{2 x^{4} e^{x y} + x^{3} y e^{x y} + 2 x^{2} + x y - y^{2}} & - \\frac{x y e^{x y}}{2 x^{4} e^{x y} + x^{3} y e^{x y} + 2 x^{2} + x y - y^{2}} & \\frac{x^{3} e^{x y} + x}{2 x^{4} e^{x y} + x^{3} y e^{x y} + 2 x^{2} + x y - y^{2}}\\\\\\frac{x^{2} \\left(2 x + y\\right) e^{x y}}{x^{2} y^{2} e^{x y} + \\left(x \\left(2 x + y\\right) - y^{2}\\right) \\left(x^{2} e^{x y} + 1\\right)} & \\frac{\\left(x \\left(2 x + y\\right) - y^{2}\\right) e^{x y}}{x^{2} y^{2} e^{x y} + \\left(x \\left(2 x + y\\right) - y^{2}\\right) \\left(x^{2} e^{x y} + 1\\right)} & \\frac{x^{2} y e^{x y}}{x^{2} y^{2} e^{x y} + \\left(x \\left(2 x + y\\right) - y^{2}\\right) \\left(x^{2} e^{x y} + 1\\right)}\\end{matrix}\\right]$"
      ],
      "text/plain": [
       "⎡                                                                           x⋅\n",
       "⎢                 -(2⋅x + y)                                   x⋅(2⋅x + y)⋅ℯ  \n",
       "⎢─────────────────────────────────────────────     ───────────────────────────\n",
       "⎢ 2  2  x⋅y   ⎛               2⎞ ⎛ 2  x⋅y    ⎞        4  x⋅y    3    x⋅y      \n",
       "⎢x ⋅y ⋅ℯ    + ⎝x⋅(2⋅x + y) - y ⎠⋅⎝x ⋅ℯ    + 1⎠     2⋅x ⋅ℯ    + x ⋅y⋅ℯ    + 2⋅x\n",
       "⎢                                                                             \n",
       "⎢                                                                       x⋅y   \n",
       "⎢                      y                                          -x⋅y⋅ℯ      \n",
       "⎢   ───────────────────────────────────────        ───────────────────────────\n",
       "⎢      4  x⋅y    3    x⋅y      2          2           4  x⋅y    3    x⋅y      \n",
       "⎢   2⋅x ⋅ℯ    + x ⋅y⋅ℯ    + 2⋅x  + x⋅y - y         2⋅x ⋅ℯ    + x ⋅y⋅ℯ    + 2⋅x\n",
       "⎢                                                                             \n",
       "⎢               2            x⋅y                           ⎛               2⎞ \n",
       "⎢              x ⋅(2⋅x + y)⋅ℯ                              ⎝x⋅(2⋅x + y) - y ⎠⋅\n",
       "⎢─────────────────────────────────────────────  ──────────────────────────────\n",
       "⎢ 2  2  x⋅y   ⎛               2⎞ ⎛ 2  x⋅y    ⎞   2  2  x⋅y   ⎛               2\n",
       "⎣x ⋅y ⋅ℯ    + ⎝x⋅(2⋅x + y) - y ⎠⋅⎝x ⋅ℯ    + 1⎠  x ⋅y ⋅ℯ    + ⎝x⋅(2⋅x + y) - y \n",
       "\n",
       "y                                                             ⎤\n",
       "                                      -y                      ⎥\n",
       "────────────     ─────────────────────────────────────────────⎥\n",
       "2          2      2  2  x⋅y   ⎛               2⎞ ⎛ 2  x⋅y    ⎞⎥\n",
       "  + x⋅y - y      x ⋅y ⋅ℯ    + ⎝x⋅(2⋅x + y) - y ⎠⋅⎝x ⋅ℯ    + 1⎠⎥\n",
       "                                                              ⎥\n",
       "                                   3  x⋅y                     ⎥\n",
       "                                  x ⋅ℯ    + x                 ⎥\n",
       "────────────        ───────────────────────────────────────   ⎥\n",
       "2          2           4  x⋅y    3    x⋅y      2          2   ⎥\n",
       "  + x⋅y - y         2⋅x ⋅ℯ    + x ⋅y⋅ℯ    + 2⋅x  + x⋅y - y    ⎥\n",
       "                                                              ⎥\n",
       " x⋅y                                2    x⋅y                  ⎥\n",
       "ℯ                                  x ⋅y⋅ℯ                     ⎥\n",
       "───────────────  ─────────────────────────────────────────────⎥\n",
       "⎞ ⎛ 2  x⋅y    ⎞   2  2  x⋅y   ⎛               2⎞ ⎛ 2  x⋅y    ⎞⎥\n",
       "⎠⋅⎝x ⋅ℯ    + 1⎠  x ⋅y ⋅ℯ    + ⎝x⋅(2⋅x + y) - y ⎠⋅⎝x ⋅ℯ    + 1⎠⎦"
      ]
     },
     "execution_count": 36,
     "metadata": {},
     "output_type": "execute_result"
    }
   ],
   "source": [
    "sp.simplify(C**(-1))"
   ]
  },
  {
   "cell_type": "markdown",
   "metadata": {},
   "source": [
    "## Ejercicio 1: Matriz de rotación (1)"
   ]
  },
  {
   "cell_type": "markdown",
   "metadata": {},
   "source": [
    "1. Definir la matriz de rotación alrededor del eje $z$\n",
    "\n",
    "$$\n",
    "R = \n",
    "\\begin{pmatrix}\n",
    "\\cos \\theta & -\\sin \\theta & 0 \\\\\n",
    "\\sin \\theta & \\cos \\theta & 0 \\\\\n",
    "0 & 0 & 1\n",
    "\\end{pmatrix}\n",
    "$$\n",
    "\n",
    "2. Verificar que $\\det R = 1$\n",
    "3. Hallar $R^{-1}$.\n",
    "4. Hallar $R^T$ y verificar que $R^T R = 1$. Esto significa que $R$ es una matriz ortogonal."
   ]
  },
  {
   "cell_type": "code",
   "execution_count": 46,
   "metadata": {},
   "outputs": [
    {
     "data": {
      "text/latex": [
       "$\\displaystyle \\left[\\begin{matrix}\\cos{\\left(\\theta \\right)} & - \\sin{\\left(\\theta \\right)} & 0\\\\\\sin{\\left(\\theta \\right)} & \\cos{\\left(\\theta \\right)} & 0\\\\0 & 0 & 1\\end{matrix}\\right]$"
      ],
      "text/plain": [
       "⎡cos(θ)  -sin(θ)  0⎤\n",
       "⎢                  ⎥\n",
       "⎢sin(θ)  cos(θ)   0⎥\n",
       "⎢                  ⎥\n",
       "⎣  0        0     1⎦"
      ]
     },
     "execution_count": 46,
     "metadata": {},
     "output_type": "execute_result"
    }
   ],
   "source": [
    "theta = sp.symbols('theta')\n",
    "\n",
    "R = sp.Matrix([[sp.cos(theta),-sp.sin(theta),0],\n",
    "             [sp.sin(theta),sp.cos(theta),0],\n",
    "             [0,0,1]])\n",
    "R"
   ]
  },
  {
   "cell_type": "code",
   "execution_count": 43,
   "metadata": {},
   "outputs": [
    {
     "data": {
      "image/png": "[encoded data removed]",
      "text/latex": [
       "$\\displaystyle 1$"
      ],
      "text/plain": [
       "1"
      ]
     },
     "execution_count": 43,
     "metadata": {},
     "output_type": "execute_result"
    }
   ],
   "source": [
    "sp.simplify(R.det())"
   ]
  },
  {
   "cell_type": "code",
   "execution_count": 50,
   "metadata": {},
   "outputs": [
    {
     "data": {
      "text/latex": [
       "$\\displaystyle \\left[\\begin{matrix}\\cos{\\left(\\theta \\right)} & \\sin{\\left(\\theta \\right)} & 0\\\\- \\sin{\\left(\\theta \\right)} & \\cos{\\left(\\theta \\right)} & 0\\\\0 & 0 & 1\\end{matrix}\\right]$"
      ],
      "text/plain": [
       "⎡cos(θ)   sin(θ)  0⎤\n",
       "⎢                  ⎥\n",
       "⎢-sin(θ)  cos(θ)  0⎥\n",
       "⎢                  ⎥\n",
       "⎣   0       0     1⎦"
      ]
     },
     "execution_count": 50,
     "metadata": {},
     "output_type": "execute_result"
    }
   ],
   "source": [
    "R_inv = R**(-1)\n",
    "R_inv = sp.simplify(R_inv)\n",
    "R_inv"
   ]
  },
  {
   "cell_type": "code",
   "execution_count": 52,
   "metadata": {},
   "outputs": [
    {
     "data": {
      "text/latex": [
       "$\\displaystyle \\left[\\begin{matrix}\\cos{\\left(\\theta \\right)} & \\sin{\\left(\\theta \\right)} & 0\\\\- \\sin{\\left(\\theta \\right)} & \\cos{\\left(\\theta \\right)} & 0\\\\0 & 0 & 1\\end{matrix}\\right]$"
      ],
      "text/plain": [
       "⎡cos(θ)   sin(θ)  0⎤\n",
       "⎢                  ⎥\n",
       "⎢-sin(θ)  cos(θ)  0⎥\n",
       "⎢                  ⎥\n",
       "⎣   0       0     1⎦"
      ]
     },
     "execution_count": 52,
     "metadata": {},
     "output_type": "execute_result"
    }
   ],
   "source": [
    "R_tra = R.T\n",
    "R_tra"
   ]
  },
  {
   "cell_type": "code",
   "execution_count": 54,
   "metadata": {},
   "outputs": [
    {
     "data": {
      "text/latex": [
       "$\\displaystyle \\left[\\begin{matrix}1 & 0 & 0\\\\0 & 1 & 0\\\\0 & 0 & 1\\end{matrix}\\right]$"
      ],
      "text/plain": [
       "⎡1  0  0⎤\n",
       "⎢       ⎥\n",
       "⎢0  1  0⎥\n",
       "⎢       ⎥\n",
       "⎣0  0  1⎦"
      ]
     },
     "execution_count": 54,
     "metadata": {},
     "output_type": "execute_result"
    }
   ],
   "source": [
    "sp.simplify(R_tra*R)"
   ]
  },
  {
   "cell_type": "code",
   "execution_count": 55,
   "metadata": {},
   "outputs": [
    {
     "data": {
      "text/plain": [
       "True"
      ]
     },
     "execution_count": 55,
     "metadata": {},
     "output_type": "execute_result"
    }
   ],
   "source": [
    "R_inv == R_tra"
   ]
  },
  {
   "cell_type": "markdown",
   "metadata": {},
   "source": [
    "## Autovalores y autovectores"
   ]
  },
  {
   "cell_type": "markdown",
   "metadata": {},
   "source": [
    "En general, al multiplicar una matriz $A$ por un vector $\\mathbf{v}$, se obtiene un vector completamente nuevo. Sin embargo, existen ciertos vectores especiales que cambian solo por una constante\n",
    "\n",
    "$$\n",
    "A \\mathbf{v} = \\lambda \\mathbf{v}\n",
    "$$\n",
    "\n",
    "A los vectores $\\mathbf{v}$ que cumplen esta relación, se les denomina como los __autovectores__ de $A$, mientras que a los respectivos escalares $\\lambda$, como sus __autovalores__.\n",
    "\n",
    "El cálculo de los autovalores y autovectores de una matriz es muy importante para hallar por ejemplo, las energías de un sistema cuántico o los modos normales de vibración de un sistema de osciladores, como veremos más adelante."
   ]
  },
  {
   "cell_type": "markdown",
   "metadata": {},
   "source": [
    "Autovalores"
   ]
  },
  {
   "cell_type": "code",
   "execution_count": 86,
   "metadata": {},
   "outputs": [
    {
     "data": {
      "image/png": "[encoded data removed]",
      "text/latex": [
       "$\\displaystyle \\left\\{ -5 : 1, \\  3 : 1, \\  6 : 1\\right\\}$"
      ],
      "text/plain": [
       "{-5: 1, 3: 1, 6: 1}"
      ]
     },
     "execution_count": 86,
     "metadata": {},
     "output_type": "execute_result"
    }
   ],
   "source": [
    "A.eigenvals() # autovalores, multiplicidad"
   ]
  },
  {
   "cell_type": "markdown",
   "metadata": {},
   "source": [
    "La función $\\texttt{eigenvals()}$ nos da los autovalores de la matriz, así como el número de veces que cada uno se repite, lo que se conoce como _multiplicidad_."
   ]
  },
  {
   "cell_type": "code",
   "execution_count": 56,
   "metadata": {},
   "outputs": [
    {
     "data": {
      "text/plain": [
       "dict_keys([6, 3, -5])"
      ]
     },
     "execution_count": 56,
     "metadata": {},
     "output_type": "execute_result"
    }
   ],
   "source": [
    "A.eigenvals().keys() # keys = autovalores"
   ]
  },
  {
   "cell_type": "markdown",
   "metadata": {},
   "source": [
    "Es posible convertir un número expresado de manera simbólica a su forma decimal."
   ]
  },
  {
   "cell_type": "code",
   "execution_count": 58,
   "metadata": {},
   "outputs": [
    {
     "data": {
      "image/png": "[encoded data removed]",
      "text/latex": [
       "$\\displaystyle -0.0551161792989764 - 1.72503706341273 i$"
      ],
      "text/plain": [
       "-0.0551161792989764 - 1.72503706341273⋅ⅈ"
      ]
     },
     "metadata": {},
     "output_type": "display_data"
    },
    {
     "data": {
      "image/png": "[encoded data removed]",
      "text/latex": [
       "$\\displaystyle 0.0541592228786996 - 0.093321367205166 i$"
      ],
      "text/plain": [
       "0.0541592228786996 - 0.093321367205166⋅ⅈ"
      ]
     },
     "metadata": {},
     "output_type": "display_data"
    },
    {
     "data": {
      "image/png": "[encoded data removed]",
      "text/latex": [
       "$\\displaystyle 6.00095695642028 - 0.181641569382103 i$"
      ],
      "text/plain": [
       "6.00095695642028 - 0.181641569382103⋅ⅈ"
      ]
     },
     "metadata": {},
     "output_type": "display_data"
    }
   ],
   "source": [
    "B_eigenvals = list(B.eigenvals().keys())\n",
    "\n",
    "for i in B_eigenvals:\n",
    "    display(sp.N(i)) # para que no salgan tan foes"
   ]
  },
  {
   "cell_type": "markdown",
   "metadata": {},
   "source": [
    "Autovectores"
   ]
  },
  {
   "cell_type": "code",
   "execution_count": 59,
   "metadata": {},
   "outputs": [
    {
     "data": {
      "text/latex": [
       "$\\displaystyle \\left[ \\left( -5, \\  1, \\  \\left[ \\left[\\begin{matrix}-2\\\\-1\\\\1\\end{matrix}\\right]\\right]\\right), \\  \\left( 3, \\  1, \\  \\left[ \\left[\\begin{matrix}-2\\\\3\\\\1\\end{matrix}\\right]\\right]\\right), \\  \\left( 6, \\  1, \\  \\left[ \\left[\\begin{matrix}\\frac{1}{16}\\\\\\frac{3}{8}\\\\1\\end{matrix}\\right]\\right]\\right)\\right]$"
      ],
      "text/plain": [
       "⎡⎛       ⎡⎡-2⎤⎤⎞  ⎛      ⎡⎡-2⎤⎤⎞  ⎛      ⎡⎡1/16⎤⎤⎞⎤\n",
       "⎢⎜       ⎢⎢  ⎥⎥⎟  ⎜      ⎢⎢  ⎥⎥⎟  ⎜      ⎢⎢    ⎥⎥⎟⎥\n",
       "⎢⎜-5, 1, ⎢⎢-1⎥⎥⎟, ⎜3, 1, ⎢⎢3 ⎥⎥⎟, ⎜6, 1, ⎢⎢3/8 ⎥⎥⎟⎥\n",
       "⎢⎜       ⎢⎢  ⎥⎥⎟  ⎜      ⎢⎢  ⎥⎥⎟  ⎜      ⎢⎢    ⎥⎥⎟⎥\n",
       "⎣⎝       ⎣⎣1 ⎦⎦⎠  ⎝      ⎣⎣1 ⎦⎦⎠  ⎝      ⎣⎣ 1  ⎦⎦⎠⎦"
      ]
     },
     "execution_count": 59,
     "metadata": {},
     "output_type": "execute_result"
    }
   ],
   "source": [
    "A.eigenvects() #autovalor, multiplicidad, autovector"
   ]
  },
  {
   "cell_type": "markdown",
   "metadata": {},
   "source": [
    "La función $\\texttt{eigenvals()}$ nos da los autovectores de la matriz, así como su respectivo autovalor y multiplicidad."
   ]
  },
  {
   "cell_type": "markdown",
   "metadata": {},
   "source": [
    "Si queremos seleccionar un autovector en particular"
   ]
  },
  {
   "cell_type": "code",
   "execution_count": 89,
   "metadata": {},
   "outputs": [
    {
     "data": {
      "image/png": "[encoded data removed]",
      "text/latex": [
       "$\\displaystyle \\left[\\begin{matrix}-2\\\\-1\\\\1\\end{matrix}\\right]$"
      ],
      "text/plain": [
       "⎡-2⎤\n",
       "⎢  ⎥\n",
       "⎢-1⎥\n",
       "⎢  ⎥\n",
       "⎣1 ⎦"
      ]
     },
     "execution_count": 89,
     "metadata": {},
     "output_type": "execute_result"
    }
   ],
   "source": [
    "A.eigenvects()[0][2][0] # seleccionar el primer autovector"
   ]
  },
  {
   "cell_type": "markdown",
   "metadata": {},
   "source": [
    "## Ejercicio 2: Matriz de rotación (2)"
   ]
  },
  {
   "cell_type": "markdown",
   "metadata": {},
   "source": [
    "1. Hallar los autovalores de $R$.\n",
    "2. Hallar los autovectores de $R$.\n",
    "3. Dar una interpretación física a estos resultados."
   ]
  },
  {
   "cell_type": "code",
   "execution_count": 65,
   "metadata": {},
   "outputs": [
    {
     "data": {
      "image/png": "[encoded data removed]",
      "text/latex": [
       "$\\displaystyle \\left[ 1, \\  - \\sqrt{\\cos^{2}{\\left(\\theta \\right)} - 1} + \\cos{\\left(\\theta \\right)}, \\  \\sqrt{\\cos^{2}{\\left(\\theta \\right)} - 1} + \\cos{\\left(\\theta \\right)}\\right]$"
      ],
      "text/plain": [
       "⎡        _____________              _____________         ⎤\n",
       "⎢       ╱    2                     ╱    2                 ⎥\n",
       "⎣1, - ╲╱  cos (θ) - 1  + cos(θ), ╲╱  cos (θ) - 1  + cos(θ)⎦"
      ]
     },
     "execution_count": 65,
     "metadata": {},
     "output_type": "execute_result"
    }
   ],
   "source": [
    "R_valp = list(R.eigenvals().keys())\n",
    "R_valp"
   ]
  },
  {
   "cell_type": "code",
   "execution_count": 71,
   "metadata": {},
   "outputs": [
    {
     "data": {
      "text/latex": [
       "$\\displaystyle \\left[ \\left[\\begin{matrix}0\\\\0\\\\1\\end{matrix}\\right], \\  \\left[\\begin{matrix}\\frac{\\sin{\\left(\\theta \\right)}}{\\sqrt{\\cos^{2}{\\left(\\theta \\right)} - 1}}\\\\1\\\\0\\end{matrix}\\right], \\  \\left[\\begin{matrix}- \\frac{\\sin{\\left(\\theta \\right)}}{\\sqrt{\\cos^{2}{\\left(\\theta \\right)} - 1}}\\\\1\\\\0\\end{matrix}\\right]\\right]$"
      ],
      "text/plain": [
       "⎡     ⎡     sin(θ)     ⎤  ⎡    -sin(θ)     ⎤⎤\n",
       "⎢     ⎢────────────────⎥  ⎢────────────────⎥⎥\n",
       "⎢⎡0⎤  ⎢   _____________⎥  ⎢   _____________⎥⎥\n",
       "⎢⎢ ⎥  ⎢  ╱    2        ⎥  ⎢  ╱    2        ⎥⎥\n",
       "⎢⎢0⎥, ⎢╲╱  cos (θ) - 1 ⎥, ⎢╲╱  cos (θ) - 1 ⎥⎥\n",
       "⎢⎢ ⎥  ⎢                ⎥  ⎢                ⎥⎥\n",
       "⎢⎣1⎦  ⎢       1        ⎥  ⎢       1        ⎥⎥\n",
       "⎢     ⎢                ⎥  ⎢                ⎥⎥\n",
       "⎣     ⎣       0        ⎦  ⎣       0        ⎦⎦"
      ]
     },
     "execution_count": 71,
     "metadata": {},
     "output_type": "execute_result"
    }
   ],
   "source": [
    "R_vecp = list()\n",
    "\n",
    "for i in range(3):\n",
    "    R_vecp.append(R.eigenvects()[i][2][0])\n",
    "\n",
    "R_vecp"
   ]
  },
  {
   "cell_type": "markdown",
   "metadata": {},
   "source": [
    "**Interpretación física**\n",
    "\n",
    "$$R \\textbf{v} = \\lambda \\textbf{v}$$\n",
    "\n",
    "* Si se aplica la rotación R sobre el vector [0,0,1], este no cambia (es el eje de rotación)"
   ]
  },
  {
   "cell_type": "code",
   "execution_count": 75,
   "metadata": {},
   "outputs": [
    {
     "data": {
      "text/latex": [
       "$\\displaystyle \\left[ \\left[\\begin{matrix}0\\\\0\\\\1\\end{matrix}\\right], \\  \\left[\\begin{matrix}\\frac{\\left(- \\sqrt{\\cos^{2}{\\left(\\theta \\right)} - 1} + \\cos{\\left(\\theta \\right)}\\right) \\sin{\\left(\\theta \\right)}}{\\sqrt{\\cos^{2}{\\left(\\theta \\right)} - 1}}\\\\- \\sqrt{\\cos^{2}{\\left(\\theta \\right)} - 1} + \\cos{\\left(\\theta \\right)}\\\\0\\end{matrix}\\right], \\  \\left[\\begin{matrix}- \\frac{\\left(\\sqrt{\\cos^{2}{\\left(\\theta \\right)} - 1} + \\cos{\\left(\\theta \\right)}\\right) \\sin{\\left(\\theta \\right)}}{\\sqrt{\\cos^{2}{\\left(\\theta \\right)} - 1}}\\\\\\sqrt{\\cos^{2}{\\left(\\theta \\right)} - 1} + \\cos{\\left(\\theta \\right)}\\\\0\\end{matrix}\\right]\\right]$"
      ],
      "text/plain": [
       "⎡     ⎡⎛     _____________         ⎞       ⎤  ⎡ ⎛   _____________         ⎞   \n",
       "⎢     ⎢⎜    ╱    2                 ⎟       ⎥  ⎢ ⎜  ╱    2                 ⎟   \n",
       "⎢     ⎢⎝- ╲╱  cos (θ) - 1  + cos(θ)⎠⋅sin(θ)⎥  ⎢-⎝╲╱  cos (θ) - 1  + cos(θ)⎠⋅si\n",
       "⎢     ⎢────────────────────────────────────⎥  ⎢───────────────────────────────\n",
       "⎢⎡0⎤  ⎢             _____________          ⎥  ⎢             _____________     \n",
       "⎢⎢ ⎥  ⎢            ╱    2                  ⎥  ⎢            ╱    2             \n",
       "⎢⎢0⎥, ⎢          ╲╱  cos (θ) - 1           ⎥, ⎢          ╲╱  cos (θ) - 1      \n",
       "⎢⎢ ⎥  ⎢                                    ⎥  ⎢                               \n",
       "⎢⎣1⎦  ⎢         _____________              ⎥  ⎢        _____________          \n",
       "⎢     ⎢        ╱    2                      ⎥  ⎢       ╱    2                  \n",
       "⎢     ⎢    - ╲╱  cos (θ) - 1  + cos(θ)     ⎥  ⎢     ╲╱  cos (θ) - 1  + cos(θ) \n",
       "⎢     ⎢                                    ⎥  ⎢                               \n",
       "⎣     ⎣                 0                  ⎦  ⎣                 0             \n",
       "\n",
       "     ⎤⎤\n",
       "     ⎥⎥\n",
       "n(θ) ⎥⎥\n",
       "─────⎥⎥\n",
       "     ⎥⎥\n",
       "     ⎥⎥\n",
       "     ⎥⎥\n",
       "     ⎥⎥\n",
       "     ⎥⎥\n",
       "     ⎥⎥\n",
       "     ⎥⎥\n",
       "     ⎥⎥\n",
       "     ⎦⎦"
      ]
     },
     "execution_count": 75,
     "metadata": {},
     "output_type": "execute_result"
    }
   ],
   "source": [
    "algo = list()\n",
    "for i in range(3):\n",
    "    algo.append(R_valp[i]*R_vecp[i])"
   ]
  },
  {
   "cell_type": "markdown",
   "metadata": {},
   "source": [
    "# Problema 1: Autovalores de energía "
   ]
  },
  {
   "cell_type": "markdown",
   "metadata": {},
   "source": [
    "_Referencia:_  Zetilli, Quantum Mechanics, Problema 3.6 (p. 197) \n",
    "\n",
    "Los posibles valores de energía de un sistema están dados por la ecuación de Schr&ouml;dinger \n",
    "\n",
    "$$\n",
    "\\hat{H}|\\psi\\rangle= E|\\psi\\rangle,\n",
    "$$\n",
    "\n",
    "donde $\\hat{H}$ es el hamiltoniano del sistema. Es decir, las posibles energías del sistema vienen a ser los autovalores del Hamiltoniano.\n",
    "\n",
    "Para este problema, consideremos el hamiltoniano\n",
    "\n",
    "$$\n",
    "\\hat{H} = E_0 \n",
    "\\begin{pmatrix}\n",
    "0 & i & 0 \\\\\n",
    "-i & 0 & 0 \\\\\n",
    "0 & 0 & -1\n",
    "\\end{pmatrix}\n",
    "$$\n",
    "\n",
    "1. Definir el hamiltoniano $\\hat{H}$.\n",
    "2. Verificar que el hamiltoniano es hermítico\n",
    "$$\n",
    "\\hat{H} = \\hat{H}^\\dagger\n",
    "$$\n",
    "3. Hallar los posibles valores de energía del sistema.\n",
    "4. Hallar los autovectores de $\\hat{H}$ y verificar para uno de estos que se cumple la ecuación de Schr&ouml;dinger.\n",
    "\n",
    "Consideremos ahora que nuestro sistema se encuentra inicialmente en un estado\n",
    "\n",
    "$$\n",
    "|\\psi_0 \\rangle = \\frac{1}{\\sqrt{5}}\n",
    "\\begin{pmatrix}\n",
    "1 - i \\\\\n",
    "1 - i \\\\\n",
    "1\n",
    "\\end{pmatrix}\n",
    "$$\n",
    "\n",
    "donde cada componente del vector indica la amplitud de probabilidad de medir cada valor de energía.\n",
    "\n",
    "El valor esperado de la energía para un sistema dado está definido como\n",
    "\n",
    "$$\n",
    "\\langle E \\rangle = \\langle \\psi_0|\\hat{H}|\\psi_0 \\rangle \n",
    "$$\n",
    "\n",
    "donde el bra $\\langle \\psi_0|$ es la adjunta del ket $|\\psi_0 \\rangle$.\n",
    "\n",
    "5. Verificar que el estado $|\\psi_0\\rangle $ esta normalizado\n",
    "$$\n",
    "\\langle \\psi_0|\\psi_0 \\rangle  = 1\n",
    "$$\n",
    "6. Hallar el valor esperado de la energía para el sistema. _Nota:_ esto se puede calcular como una multiplicación de matrices."
   ]
  },
  {
   "cell_type": "code",
   "execution_count": 98,
   "metadata": {},
   "outputs": [
    {
     "data": {
      "text/latex": [
       "$\\displaystyle \\left[\\begin{matrix}0 & i E_{0} & 0\\\\- i E_{0} & 0 & 0\\\\0 & 0 & - E_{0}\\end{matrix}\\right]$"
      ],
      "text/plain": [
       "⎡  0    ⅈ⋅E₀   0 ⎤\n",
       "⎢                ⎥\n",
       "⎢-ⅈ⋅E₀   0     0 ⎥\n",
       "⎢                ⎥\n",
       "⎣  0     0    -E₀⎦"
      ]
     },
     "execution_count": 98,
     "metadata": {},
     "output_type": "execute_result"
    }
   ],
   "source": [
    "E_0 = sp.symbols('E_0',positive = True)\n",
    "\n",
    "H = E_0*sp.Matrix([[0,sp.I,0],\n",
    "              [-sp.I,0,0],\n",
    "              [0,0,-1]])\n",
    "H"
   ]
  },
  {
   "cell_type": "code",
   "execution_count": 100,
   "metadata": {},
   "outputs": [
    {
     "data": {
      "text/plain": [
       "True"
      ]
     },
     "execution_count": 100,
     "metadata": {},
     "output_type": "execute_result"
    }
   ],
   "source": [
    "H_conj = Dagger(H)\n",
    "H_conj == H"
   ]
  },
  {
   "cell_type": "code",
   "execution_count": 130,
   "metadata": {},
   "outputs": [
    {
     "data": {
      "image/png": "[encoded data removed]",
      "text/latex": [
       "$\\displaystyle \\left\\{ - E_{0} : 2, \\  E_{0} : 1\\right\\}$"
      ],
      "text/plain": [
       "{-E₀: 2, E₀: 1}"
      ]
     },
     "execution_count": 130,
     "metadata": {},
     "output_type": "execute_result"
    }
   ],
   "source": [
    "H.eigenvals()"
   ]
  },
  {
   "cell_type": "code",
   "execution_count": 101,
   "metadata": {},
   "outputs": [
    {
     "data": {
      "image/png": "[encoded data removed]",
      "text/latex": [
       "$\\displaystyle \\left[ E_{0}, \\  - E_{0}\\right]$"
      ],
      "text/plain": [
       "[E₀, -E₀]"
      ]
     },
     "execution_count": 101,
     "metadata": {},
     "output_type": "execute_result"
    }
   ],
   "source": [
    "H_ener = list(H.eigenvals().keys())\n",
    "H_ener"
   ]
  },
  {
   "cell_type": "code",
   "execution_count": 131,
   "metadata": {},
   "outputs": [
    {
     "data": {
      "text/latex": [
       "$\\displaystyle \\left[ \\left( - E_{0}, \\  2, \\  \\left[ \\left[\\begin{matrix}- i\\\\1\\\\0\\end{matrix}\\right], \\  \\left[\\begin{matrix}0\\\\0\\\\1\\end{matrix}\\right]\\right]\\right), \\  \\left( E_{0}, \\  1, \\  \\left[ \\left[\\begin{matrix}i\\\\1\\\\0\\end{matrix}\\right]\\right]\\right)\\right]$"
      ],
      "text/plain": [
       "⎡⎛        ⎡⎡-ⅈ⎤  ⎡0⎤⎤⎞  ⎛       ⎡⎡ⅈ⎤⎤⎞⎤\n",
       "⎢⎜        ⎢⎢  ⎥  ⎢ ⎥⎥⎟  ⎜       ⎢⎢ ⎥⎥⎟⎥\n",
       "⎢⎜-E₀, 2, ⎢⎢1 ⎥, ⎢0⎥⎥⎟, ⎜E₀, 1, ⎢⎢1⎥⎥⎟⎥\n",
       "⎢⎜        ⎢⎢  ⎥  ⎢ ⎥⎥⎟  ⎜       ⎢⎢ ⎥⎥⎟⎥\n",
       "⎣⎝        ⎣⎣0 ⎦  ⎣1⎦⎦⎠  ⎝       ⎣⎣0⎦⎦⎠⎦"
      ]
     },
     "execution_count": 131,
     "metadata": {},
     "output_type": "execute_result"
    }
   ],
   "source": [
    "H.eigenvects()"
   ]
  },
  {
   "cell_type": "code",
   "execution_count": 128,
   "metadata": {},
   "outputs": [
    {
     "data": {
      "text/latex": [
       "$\\displaystyle \\left[ \\left[ \\left[\\begin{matrix}- i\\\\1\\\\0\\end{matrix}\\right], \\  \\left[\\begin{matrix}0\\\\0\\\\1\\end{matrix}\\right]\\right], \\  \\left[\\begin{matrix}i\\\\1\\\\0\\end{matrix}\\right]\\right]$"
      ],
      "text/plain": [
       "⎡⎡⎡-ⅈ⎤  ⎡0⎤⎤  ⎡ⅈ⎤⎤\n",
       "⎢⎢⎢  ⎥  ⎢ ⎥⎥  ⎢ ⎥⎥\n",
       "⎢⎢⎢1 ⎥, ⎢0⎥⎥, ⎢1⎥⎥\n",
       "⎢⎢⎢  ⎥  ⎢ ⎥⎥  ⎢ ⎥⎥\n",
       "⎣⎣⎣0 ⎦  ⎣1⎦⎦  ⎣0⎦⎦"
      ]
     },
     "execution_count": 128,
     "metadata": {},
     "output_type": "execute_result"
    }
   ],
   "source": [
    "aux1 = H.eigenvects()[0][2]\n",
    "aux2 = H.eigenvects()[1][2][0]\n",
    "\n",
    "H_vecp = [aux1,aux2]\n",
    "H_vecp"
   ]
  },
  {
   "cell_type": "code",
   "execution_count": 129,
   "metadata": {},
   "outputs": [
    {
     "data": {
      "text/plain": [
       "True"
      ]
     },
     "execution_count": 129,
     "metadata": {},
     "output_type": "execute_result"
    }
   ],
   "source": [
    "H*H_vecp[1] == E_0*H_vecp[1]"
   ]
  },
  {
   "cell_type": "code",
   "execution_count": 133,
   "metadata": {},
   "outputs": [
    {
     "data": {
      "text/latex": [
       "$\\displaystyle \\left[\\begin{matrix}\\frac{\\sqrt{5} \\left(1 - i\\right)}{5}\\\\\\frac{\\sqrt{5} \\left(1 - i\\right)}{5}\\\\\\frac{\\sqrt{5}}{5}\\end{matrix}\\right]$"
      ],
      "text/plain": [
       "⎡√5⋅(1 - ⅈ)⎤\n",
       "⎢──────────⎥\n",
       "⎢    5     ⎥\n",
       "⎢          ⎥\n",
       "⎢√5⋅(1 - ⅈ)⎥\n",
       "⎢──────────⎥\n",
       "⎢    5     ⎥\n",
       "⎢          ⎥\n",
       "⎢    √5    ⎥\n",
       "⎢    ──    ⎥\n",
       "⎣    5     ⎦"
      ]
     },
     "execution_count": 133,
     "metadata": {},
     "output_type": "execute_result"
    }
   ],
   "source": [
    "ket = 1/sp.sqrt(5)*sp.Matrix([1-sp.I,1-sp.I,1])\n",
    "ket"
   ]
  },
  {
   "cell_type": "code",
   "execution_count": 138,
   "metadata": {},
   "outputs": [
    {
     "data": {
      "text/latex": [
       "$\\displaystyle \\left[\\begin{matrix}\\frac{\\sqrt{5} \\left(1 + i\\right)}{5} & \\frac{\\sqrt{5} \\left(1 + i\\right)}{5} & \\frac{\\sqrt{5}}{5}\\end{matrix}\\right]$"
      ],
      "text/plain": [
       "⎡√5⋅(1 + ⅈ)  √5⋅(1 + ⅈ)  √5⎤\n",
       "⎢──────────  ──────────  ──⎥\n",
       "⎣    5           5       5 ⎦"
      ]
     },
     "execution_count": 138,
     "metadata": {},
     "output_type": "execute_result"
    }
   ],
   "source": [
    "bra = Dagger(ket)\n",
    "bra"
   ]
  },
  {
   "cell_type": "code",
   "execution_count": 142,
   "metadata": {},
   "outputs": [
    {
     "data": {
      "text/latex": [
       "$\\displaystyle \\left[\\begin{matrix}1\\end{matrix}\\right]$"
      ],
      "text/plain": [
       "[1]"
      ]
     },
     "execution_count": 142,
     "metadata": {},
     "output_type": "execute_result"
    }
   ],
   "source": [
    "sp.simplify(bra*ket)"
   ]
  },
  {
   "cell_type": "code",
   "execution_count": 143,
   "metadata": {},
   "outputs": [
    {
     "data": {
      "text/latex": [
       "$\\displaystyle \\left[\\begin{matrix}- \\frac{E_{0}}{5}\\end{matrix}\\right]$"
      ],
      "text/plain": [
       "⎡-E₀ ⎤\n",
       "⎢────⎥\n",
       "⎣ 5  ⎦"
      ]
     },
     "execution_count": 143,
     "metadata": {},
     "output_type": "execute_result"
    }
   ],
   "source": [
    "bra*H*ket"
   ]
  },
  {
   "cell_type": "markdown",
   "metadata": {},
   "source": [
    "# Matrices númericas"
   ]
  },
  {
   "cell_type": "markdown",
   "metadata": {},
   "source": [
    "Para definir una matriz de manera numérica usamos el paquete $\\texttt{numpy}$. En este paquete, las matrices (así como cualquier otro arreglo de números) se definen usando el comando $\\texttt{array}$."
   ]
  },
  {
   "cell_type": "code",
   "execution_count": 145,
   "metadata": {},
   "outputs": [],
   "source": [
    "import numpy as np"
   ]
  },
  {
   "cell_type": "code",
   "execution_count": 126,
   "metadata": {},
   "outputs": [
    {
     "data": {
      "text/plain": [
       "array([[-2, -4,  2],\n",
       "       [-2,  1,  2],\n",
       "       [ 4,  2,  5]])"
      ]
     },
     "execution_count": 126,
     "metadata": {},
     "output_type": "execute_result"
    }
   ],
   "source": [
    "A_num = np.array([[-2, -4, 2], \n",
    "                  [-2, 1, 2],\n",
    "                  [4, 2, 5]])\n",
    "\n",
    "A_num"
   ]
  },
  {
   "cell_type": "code",
   "execution_count": 147,
   "metadata": {},
   "outputs": [
    {
     "data": {
      "text/plain": [
       "array([[ 1,  4,  3],\n",
       "       [ 0, -1,  2],\n",
       "       [ 1,  2,  5]])"
      ]
     },
     "execution_count": 147,
     "metadata": {},
     "output_type": "execute_result"
    }
   ],
   "source": [
    "B_num = np.array([[1, 4, 3],\n",
    "                  [0, -1, 2], \n",
    "                  [1, 2, 5]])\n",
    "\n",
    "B_num"
   ]
  },
  {
   "cell_type": "markdown",
   "metadata": {},
   "source": [
    "Todas las operaciones algebraicas que se realizaron en $\\texttt{sympy}$, también se pueden realizar en $\\texttt{numpy}$."
   ]
  },
  {
   "cell_type": "code",
   "execution_count": 115,
   "metadata": {},
   "outputs": [
    {
     "data": {
      "text/plain": [
       "array([[-1,  0,  5],\n",
       "       [-2,  0,  4],\n",
       "       [ 5,  4, 10]])"
      ]
     },
     "execution_count": 115,
     "metadata": {},
     "output_type": "execute_result"
    }
   ],
   "source": [
    "A_num + B_num"
   ]
  },
  {
   "cell_type": "markdown",
   "metadata": {},
   "source": [
    "Hay q tener cuidado con la multiplicación. Si multiplicamos las matrices de la misma manera que en $\\texttt{sympy}$, esta será elemento por elemento."
   ]
  },
  {
   "cell_type": "code",
   "execution_count": 122,
   "metadata": {},
   "outputs": [
    {
     "data": {
      "text/plain": [
       "array([[ -2., -16.,   6.],\n",
       "       [ -0.,  -1.,   4.],\n",
       "       [  4.,   4.,  25.]])"
      ]
     },
     "execution_count": 122,
     "metadata": {},
     "output_type": "execute_result"
    }
   ],
   "source": [
    "A_num*B_num"
   ]
  },
  {
   "cell_type": "markdown",
   "metadata": {},
   "source": [
    "Multiplicación de matrices"
   ]
  },
  {
   "cell_type": "code",
   "execution_count": 117,
   "metadata": {},
   "outputs": [
    {
     "data": {
      "text/plain": [
       "array([[ 0,  0, -4],\n",
       "       [ 0, -5,  6],\n",
       "       [ 9, 24, 41]])"
      ]
     },
     "execution_count": 117,
     "metadata": {},
     "output_type": "execute_result"
    }
   ],
   "source": [
    "np.dot(A_num, B_num)"
   ]
  },
  {
   "cell_type": "markdown",
   "metadata": {},
   "source": [
    "Para realizar las operaciones propias de las matrices como obtener la matriz adjunta o inversa, se tiene que usar el paquete $\\textt{linalg}$ que está dentro de $\\texttt{numpy}$. "
   ]
  },
  {
   "cell_type": "code",
   "execution_count": 125,
   "metadata": {},
   "outputs": [
    {
     "data": {
      "image/png": "[encoded data removed]",
      "text/latex": [
       "$\\displaystyle -90.0$"
      ],
      "text/plain": [
       "-90.0"
      ]
     },
     "execution_count": 125,
     "metadata": {},
     "output_type": "execute_result"
    }
   ],
   "source": [
    "np.linalg.det(A_num)"
   ]
  },
  {
   "cell_type": "code",
   "execution_count": 127,
   "metadata": {},
   "outputs": [
    {
     "data": {
      "text/plain": [
       "array([[-1.11111111e-02, -2.66666667e-01,  1.11111111e-01],\n",
       "       [-2.00000000e-01,  2.00000000e-01, -9.25185854e-18],\n",
       "       [ 8.88888889e-02,  1.33333333e-01,  1.11111111e-01]])"
      ]
     },
     "execution_count": 127,
     "metadata": {},
     "output_type": "execute_result"
    }
   ],
   "source": [
    "np.linalg.inv(A_num)"
   ]
  },
  {
   "cell_type": "markdown",
   "metadata": {},
   "source": [
    "Autovalores y autovectores"
   ]
  },
  {
   "cell_type": "code",
   "execution_count": 128,
   "metadata": {},
   "outputs": [
    {
     "data": {
      "text/plain": [
       "(array([-5.,  3.,  6.]), array([[ 0.81649658,  0.53452248,  0.05842062],\n",
       "        [ 0.40824829, -0.80178373,  0.35052374],\n",
       "        [-0.40824829, -0.26726124,  0.93472998]]))"
      ]
     },
     "execution_count": 128,
     "metadata": {},
     "output_type": "execute_result"
    }
   ],
   "source": [
    "np.linalg.eig(A_num)"
   ]
  },
  {
   "cell_type": "markdown",
   "metadata": {},
   "source": [
    "Los autovectores hallados están normalizados, es decir, su módulo es igual a 1."
   ]
  },
  {
   "cell_type": "markdown",
   "metadata": {},
   "source": [
    "# Problema 2: Autovalores de energía\n"
   ]
  },
  {
   "cell_type": "markdown",
   "metadata": {},
   "source": [
    "_Referencia:_ Zetilli, Quantum Mechanics, Problema 3.11 (p. 204) \n",
    "\n",
    "Al igual que en el problema 1, consideremos un sistema cuyo estado inicial y hamiltoniano son respectivamente\n",
    "\n",
    "$$\n",
    "|\\psi_0 \\rangle = \\frac{1}{5}\n",
    "\\begin{pmatrix}\n",
    "3 \\\\\n",
    "0 \\\\\n",
    "4\n",
    "\\end{pmatrix} \n",
    "\\quad\n",
    "\\hat{H} = \n",
    "\\begin{pmatrix}\n",
    "3 & 0 & 0 \\\\\n",
    "0 & 0 & 5 \\\\\n",
    "0 & 5 & 0\n",
    "\\end{pmatrix}\n",
    "$$\n",
    "\n",
    "Repetir los cálculos del problema 1, pero trabajandolo ahora de manera numérica. "
   ]
  },
  {
   "cell_type": "code",
   "execution_count": 1,
   "metadata": {},
   "outputs": [],
   "source": [
    "#solucion"
   ]
  }
 ],
 "metadata": {
  "kernelspec": {
   "display_name": "Python 3",
   "language": "python",
   "name": "python3"
  },
  "language_info": {
   "codemirror_mode": {
    "name": "ipython",
    "version": 3
   },
   "file_extension": ".py",
   "mimetype": "text/x-python",
   "name": "python",
   "nbconvert_exporter": "python",
   "pygments_lexer": "ipython3",
   "version": "3.7.4"
  }
 },
 "nbformat": 4,
 "nbformat_minor": 4
}
