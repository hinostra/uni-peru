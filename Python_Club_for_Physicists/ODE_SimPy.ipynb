{
 "cells": [
  {
   "cell_type": "markdown",
   "metadata": {},
   "source": [
    "# Ecuaciones diferenciales ordinarias"
   ]
  },
  {
   "cell_type": "markdown",
   "metadata": {},
   "source": [
    "Las ecuaciones diferenciales son parte fundamental de la física. Muchas leyes físicas como la segunda ley de Newton o las ecuaciones de Maxwell se expresan de esta manera, por lo que aprender resolverlas es de suma importancia. En esta sesión aprenderemos algunos métodos simbólicos y numéricos que ofrecen ciertos paquetes en Python para poder obtener la solución a ecuaciones diferenciales ordinarias. Primero veremos como resolverlas de manera simbólica usando el paquete $\\texttt{sympy}$."
   ]
  },
  {
   "cell_type": "markdown",
   "metadata": {},
   "source": [
    "## **Decaimiento radioactivo**"
   ]
  },
  {
   "cell_type": "markdown",
   "metadata": {},
   "source": [
    "Los núcleos radioactivos decaen de acuerdo a la ley\n",
    "\n",
    "$$\n",
    "\\frac{dN}{dt} = - \\lambda N\n",
    "$$\n",
    "\n",
    "donde $N$ es la concentración de los nucleidos en el tiempo $t$. \n",
    "\n",
    "La solución a esta ecuación es una exponencial que decae. Si en $t = 0$ se tiene una concentración inicial $N(0) = N_0$ \n",
    "\n",
    "$$\n",
    "N = N_0 e^{-\\lambda t}.\n",
    "$$"
   ]
  },
  {
   "cell_type": "code",
   "execution_count": 2,
   "metadata": {},
   "outputs": [],
   "source": [
    "import sympy as sp #Para hacer cálculo simbólico\n",
    "import numpy as np\n",
    "import matplotlib.pyplot as plt\n",
    "%matplotlib inline #Para que las imágenes salgan en Jupyter ¿?"
   ]
  },
  {
   "cell_type": "code",
   "execution_count": 5,
   "metadata": {},
   "outputs": [],
   "source": [
    "#Variables\n",
    "\n",
    "#Cantidades simbólicas\n",
    "t = sp.symbols('t') \n",
    "#Función, Function('N': nombre)(t: variable)\n",
    "N = sp.Function('N')(t) \n",
    "l = sp.symbols('lambda') "
   ]
  },
  {
   "cell_type": "markdown",
   "metadata": {},
   "source": [
    "### Sin condiciones iniciales"
   ]
  },
  {
   "cell_type": "code",
   "execution_count": 7,
   "metadata": {},
   "outputs": [
    {
     "data": {
      "text/latex": [
       "$\\displaystyle \\frac{d}{d t} N{\\left(t \\right)} = - \\lambda N{\\left(t \\right)}$"
      ],
      "text/plain": [
       "Eq(Derivative(N(t), t), -lambda*N(t))"
      ]
     },
     "execution_count": 7,
     "metadata": {},
     "output_type": "execute_result"
    }
   ],
   "source": [
    "\"\"\" Eq: igualdad(equality), \n",
    "    Eq(sp.diff(N): primera parte, -l*N: segunda parte) \n",
    "    diff(N): primera derivada \"\"\"\n",
    "eq = sp.Eq(sp.diff(N),  -l*N) \n",
    "eq"
   ]
  },
  {
   "cell_type": "markdown",
   "metadata": {},
   "source": [
    "**Resolver la ecuación**"
   ]
  },
  {
   "cell_type": "code",
   "execution_count": 4,
   "metadata": {},
   "outputs": [
    {
     "data": {
      "text/latex": [
       "$\\displaystyle N{\\left(t \\right)} = C_{1} e^{- \\lambda t}$"
      ],
      "text/plain": [
       "Eq(N(t), C1*exp(-lambda*t))"
      ]
     },
     "execution_count": 4,
     "metadata": {},
     "output_type": "execute_result"
    }
   ],
   "source": [
    "# dsolve(eq: ecuación a resolver, N: solución)\n",
    "sol = sp.dsolve(eq, N)\n",
    "sol"
   ]
  },
  {
   "cell_type": "markdown",
   "metadata": {},
   "source": [
    "### Con condiciones iniciales\n"
   ]
  },
  {
   "cell_type": "code",
   "execution_count": 9,
   "metadata": {},
   "outputs": [
    {
     "data": {
      "text/latex": [
       "$\\displaystyle N{\\left(t \\right)} = N_{0} e^{- \\lambda t}$"
      ],
      "text/plain": [
       "Eq(N(t), N_0*exp(-lambda*t))"
      ]
     },
     "execution_count": 9,
     "metadata": {},
     "output_type": "execute_result"
    }
   ],
   "source": [
    "N_0 = sp.symbols('N_0')\n",
    "\"\"\" ics = {N.subs(t, 0): N_0}: condiciones iniciales\n",
    "    N.subs(t, 0): el 't' lo va a cambiar por '0' en la función 'N'\"\"\" \n",
    "sol_ci = sp.dsolve(sp.diff(N) + l*N, N, ics = {N.subs(t, 0): N_0})\n",
    "sol_ci"
   ]
  },
  {
   "cell_type": "markdown",
   "metadata": {},
   "source": [
    "**Hacemos que N sea una funcion numerica para graficarla**"
   ]
  },
  {
   "cell_type": "code",
   "execution_count": 12,
   "metadata": {},
   "outputs": [],
   "source": [
    "#Asignación de valores \n",
    "l_num = 0.1\n",
    "N0_num = 1.0e10\n",
    "\n",
    "#Pasar de simbólico a numérico\n",
    "\"\"\" lambdify(t: variable independiente,\n",
    "             sol_ci.subs([(l, l_num),(N_0, N0_num)]).rhs:\n",
    "                    sol_ci: solución,\n",
    "                    subs: cambiar símbolos por números,\n",
    "                    rhs: 'extraer' la función solución,\n",
    "             'numpy': paquete al que lo voy a pasar ¿?)\n",
    "    lambdify: pasa de sp.exp(-lambda*t) a np.exp(-lambda*t) \"\"\"\n",
    "N_num = sp.lambdify(t, sol_ci.subs([(l, l_num), (N_0, N0_num)]).rhs, 'numpy')"
   ]
  },
  {
   "cell_type": "code",
   "execution_count": 11,
   "metadata": {},
   "outputs": [
    {
     "data": {
      "text/plain": [
       "[<matplotlib.lines.Line2D at 0x7f7aa7ad9d10>]"
      ]
     },
     "execution_count": 11,
     "metadata": {},
     "output_type": "execute_result"
    },
    {
     "data": {
      "image/png": "[encoded data removed]",
      "text/plain": [
       "<Figure size 432x288 with 1 Axes>"
      ]
     },
     "metadata": {
      "needs_background": "light"
     },
     "output_type": "display_data"
    }
   ],
   "source": [
    "t_plot = np.linspace(0, 50, 1000)\n",
    "N_plot = N_num(t_plot)/N0_num\n",
    "\n",
    "plt.plot(t_plot, N_plot,color='m')"
   ]
  },
  {
   "cell_type": "markdown",
   "metadata": {},
   "source": [
    "## **Oscilador armónico**"
   ]
  },
  {
   "cell_type": "markdown",
   "metadata": {},
   "source": [
    "## Oscilador armónico simple"
   ]
  },
  {
   "cell_type": "markdown",
   "metadata": {},
   "source": [
    "Una de los sistemas más importantes de la física, si es que no es el más importante, es el oscilador armónico cuya realización más simple es una partícula en un resorte. De la segunda ley de Newton y la ley de Hooke, la ecuación de movimiento que describe el oscilador armónico está dada por\n",
    "\n",
    "$$\n",
    "\\frac{d^2 x}{dt^2} + \\omega^2 x = 0 \n",
    "$$\n",
    "\n",
    "donde $x$ es la posición de la partícula y $\\omega$ es su frecuencia. La solución general a esta ecuación está dada por\n",
    "\n",
    "$$\n",
    "x(t) = C_1 \\cos(\\omega t) + C_2 \\sin(\\omega t) = A\\cos(\\omega t + \\phi)\n",
    "$$\n",
    "\n",
    "donde $C_1$ y $C_2$, u $\\omega$ y $\\phi$ dependen de las condiciones iniciales $x(0) = x_0$ y $\\dot{x} (0) = \\dot{x}_0$ "
   ]
  },
  {
   "cell_type": "code",
   "execution_count": 15,
   "metadata": {},
   "outputs": [
    {
     "data": {
      "text/latex": [
       "$\\displaystyle x{\\left(t \\right)} = C_{1} e^{- i \\omega t} + C_{2} e^{i \\omega t}$"
      ],
      "text/plain": [
       "Eq(x(t), C1*exp(-I*omega*t) + C2*exp(I*omega*t))"
      ]
     },
     "execution_count": 15,
     "metadata": {},
     "output_type": "execute_result"
    }
   ],
   "source": [
    "x_simple = sp.Function('x')(t)\n",
    "w = sp.symbols('omega')\n",
    "\n",
    "# diff(x_simple, (t, 2)): Segunda derivada\n",
    "eq_simple = sp.Eq(sp.diff(x_simple, (t, 2)) + w**2*x_simple,  0)\n",
    "sol_simple = sp.dsolve(eq_simple, x_simple)\n",
    "sol_simple"
   ]
  },
  {
   "cell_type": "code",
   "execution_count": 16,
   "metadata": {},
   "outputs": [
    {
     "data": {
      "text/latex": [
       "$\\displaystyle x{\\left(t \\right)} = \\left(- \\frac{i \\dot{x_0}}{2 \\omega} + \\frac{x_{0}}{2}\\right) e^{i \\omega t} + \\frac{\\left(i \\dot{x_0} + \\omega x_{0}\\right) e^{- i \\omega t}}{2 \\omega}$"
      ],
      "text/plain": [
       "Eq(x(t), (-I*\\dot{x_0}/(2*omega) + x_0/2)*exp(I*omega*t) + (I*\\dot{x_0} + omega*x_0)*exp(-I*omega*t)/(2*omega))"
      ]
     },
     "execution_count": 16,
     "metadata": {},
     "output_type": "execute_result"
    }
   ],
   "source": [
    "x0 = sp.symbols('x_0')\n",
    "x0dot = sp.symbols('\\dot{x_0}')\n",
    "\n",
    "#Se asigna condiciones iniciales a x(0) y \\dot(x)(0)\n",
    "sol_simple_ci = sp.dsolve(eq_simple, x_simple, ics = {x_simple.subs(t, 0): x0, sp.diff(x_simple, t).subs(t, 0): x0dot})\n",
    "sol_simple_ci "
   ]
  },
  {
   "cell_type": "markdown",
   "metadata": {},
   "source": [
    "**Pasar de expresiones complejas a senos y cosenos**"
   ]
  },
  {
   "cell_type": "code",
   "execution_count": 18,
   "metadata": {},
   "outputs": [
    {
     "data": {
      "text/latex": [
       "$\\displaystyle x{\\left(t \\right)} = \\frac{\\dot{x_0} \\sin{\\left(\\omega t \\right)}}{\\omega} + x_{0} \\cos{\\left(\\omega t \\right)}$"
      ],
      "text/plain": [
       "Eq(x(t), \\dot{x_0}*sin(omega*t)/omega + x_0*cos(omega*t))"
      ]
     },
     "execution_count": 18,
     "metadata": {},
     "output_type": "execute_result"
    }
   ],
   "source": [
    "\"\"\" rewrite(sp.cos): representa una función matemática en términos de otra función\n",
    "    simplify(): para simplificar \"\"\"\n",
    "sol_simple_ci = sol_simple_ci.rewrite(sp.cos).simplify()\n",
    "sol_simple_ci"
   ]
  },
  {
   "cell_type": "code",
   "execution_count": 23,
   "metadata": {},
   "outputs": [
    {
     "data": {
      "image/png": "[encoded data removed]",
      "text/plain": [
       "<Figure size 432x288 with 1 Axes>"
      ]
     },
     "metadata": {
      "needs_background": "light"
     },
     "output_type": "display_data"
    }
   ],
   "source": [
    "w_num = 0.5\n",
    "x0_num = 5\n",
    "x0dot_num = 0\n",
    "\n",
    "x_simple_num = sp.lambdify(t, sol_simple_ci.subs([(w, w_num), (x0, x0_num), (x0dot, x0dot_num)]).rhs, 'numpy')\n",
    "\n",
    "x_simple_plot = x_simple_num(t_plot)\n",
    "\n",
    "plt.plot(t_plot, x_simple_plot)\n",
    "plt.show()"
   ]
  },
  {
   "cell_type": "markdown",
   "metadata": {},
   "source": [
    "## Oscilador armónico amortiguado"
   ]
  },
  {
   "cell_type": "markdown",
   "metadata": {},
   "source": [
    "Consideremos el caso en el que además se tiene una fuerza de resistencia proporcional a la velocidad de la partícula. La ecuación de movimiento será ahora\n",
    "\n",
    "$$\n",
    "\\frac{d^2 x}{dt^2} + \\gamma \\dot{x}+ \\omega^2 x = 0 \n",
    "$$\n",
    "\n",
    "cuya solución depende de los valores de $\\gamma$ y $\\omega$."
   ]
  },
  {
   "cell_type": "code",
   "execution_count": 25,
   "metadata": {},
   "outputs": [
    {
     "data": {
      "text/latex": [
       "$\\displaystyle \\gamma \\frac{d}{d t} x{\\left(t \\right)} + \\omega^{2} x{\\left(t \\right)} + \\frac{d^{2}}{d t^{2}} x{\\left(t \\right)} = 0$"
      ],
      "text/plain": [
       "Eq(gamma*Derivative(x(t), t) + omega**2*x(t) + Derivative(x(t), (t, 2)), 0)"
      ]
     },
     "execution_count": 25,
     "metadata": {},
     "output_type": "execute_result"
    }
   ],
   "source": [
    "g = sp.symbols('gamma')\n",
    "\n",
    "x_damped = sp.Function('x')(t)\n",
    "\n",
    "eq_damped = sp.Eq(sp.diff(x_damped, (t, 2)) + g*sp.diff(x_damped, t) + w**2*x_damped,  0)\n",
    "eq_damped"
   ]
  },
  {
   "cell_type": "markdown",
   "metadata": {},
   "source": [
    "### Sobreamortiguado"
   ]
  },
  {
   "cell_type": "code",
   "execution_count": 30,
   "metadata": {},
   "outputs": [
    {
     "data": {
      "text/latex": [
       "$\\displaystyle x{\\left(t \\right)} = C_{1} e^{- 1.55825756949558 \\omega t} + C_{2} e^{- 0.641742430504416 \\omega t}$"
      ],
      "text/plain": [
       "Eq(x(t), C1*exp(-1.55825756949558*omega*t) + C2*exp(-0.641742430504416*omega*t))"
      ]
     },
     "execution_count": 30,
     "metadata": {},
     "output_type": "execute_result"
    }
   ],
   "source": [
    "#sobreamortiguado\n",
    "g_sobre = 1.1*2*w \n",
    "CI = {x_simple.subs(t, 0): x0, sp.diff(x_damped, t).subs(t, 0): x0dot}\n",
    "\n",
    "eq_damped_sobre = eq_damped.subs(g, g_sobre)\n",
    "sol_sobre = sp.dsolve(eq_damped_sobre, x_simple) #ics = CI\n",
    "\n",
    "sol_sobre"
   ]
  },
  {
   "cell_type": "code",
   "execution_count": 28,
   "metadata": {},
   "outputs": [
    {
     "data": {
      "text/plain": [
       "[<matplotlib.lines.Line2D at 0x7f7aa7773390>]"
      ]
     },
     "execution_count": 28,
     "metadata": {},
     "output_type": "execute_result"
    },
    {
     "data": {
      "image/png": "[encoded data removed]",
      "text/plain": [
       "<Figure size 432x288 with 1 Axes>"
      ]
     },
     "metadata": {
      "needs_background": "light"
     },
     "output_type": "display_data"
    }
   ],
   "source": [
    "sol_sobre = sp.dsolve(eq_damped_sobre, x_simple, ics = {x_simple.subs(t, 0): x0, sp.diff(x_simple, t).subs(t, 0): x0dot})\n",
    "\n",
    "x_sobre_num = sp.lambdify(t, sol_sobre.subs([(w, w_num), (x0, x0_num), (x0dot, x0dot_num)]).rhs, 'numpy')\n",
    "\n",
    "x_sobre_plot = x_sobre_num(t_plot)\n",
    "plt.plot(t_plot, x_sobre_plot)"
   ]
  },
  {
   "cell_type": "markdown",
   "metadata": {},
   "source": [
    "### Amortiguamiento crítico"
   ]
  },
  {
   "cell_type": "code",
   "execution_count": 31,
   "metadata": {},
   "outputs": [
    {
     "data": {
      "text/latex": [
       "$\\displaystyle x{\\left(t \\right)} = \\left(t \\left(\\dot{x_0} + \\omega x_{0}\\right) + x_{0}\\right) e^{- \\omega t}$"
      ],
      "text/plain": [
       "Eq(x(t), (t*(\\dot{x_0} + omega*x_0) + x_0)*exp(-omega*t))"
      ]
     },
     "execution_count": 31,
     "metadata": {},
     "output_type": "execute_result"
    }
   ],
   "source": [
    "#amortiguamiento critico\n",
    "g_crit = 2*w\n",
    "\n",
    "eq_damped_crit = eq_damped.subs(g, g_crit)\n",
    "sol_crit = sp.dsolve(eq_damped_crit, x_simple, ics = CI)\n",
    "sol_crit"
   ]
  },
  {
   "cell_type": "code",
   "execution_count": 55,
   "metadata": {},
   "outputs": [
    {
     "data": {
      "text/plain": [
       "<matplotlib.legend.Legend at 0x7f7aa67c7b90>"
      ]
     },
     "execution_count": 55,
     "metadata": {},
     "output_type": "execute_result"
    },
    {
     "data": {
      "image/png": "[encoded data removed]",
      "text/plain": [
       "<Figure size 432x288 with 1 Axes>"
      ]
     },
     "metadata": {
      "needs_background": "light"
     },
     "output_type": "display_data"
    }
   ],
   "source": [
    "x_crit_num = sp.lambdify(t, sol_crit.subs([(w, w_num), (x0, x0_num), (x0dot, x0dot_num)]).rhs, 'numpy')\n",
    "\n",
    "x_crit_plot = x_crit_num(t_plot)\n",
    "plt.plot(t_plot, x_sobre_plot, t_plot, x_crit_plot)\n",
    "plt.legend(['sobreamortiguado', 'critico'])"
   ]
  },
  {
   "cell_type": "markdown",
   "metadata": {},
   "source": [
    "### Subamortiguamiento"
   ]
  },
  {
   "cell_type": "code",
   "execution_count": 52,
   "metadata": {},
   "outputs": [
    {
     "data": {
      "text/latex": [
       "$\\displaystyle x{\\left(t \\right)} = \\left(\\frac{0.502518907629606 i \\dot{x_0}}{\\omega} + 0.5 x_{0} + 0.0502518907629606 i x_{0}\\right) e^{\\omega t \\left(-0.1 - 0.99498743710662 i\\right)} - \\frac{1.00503781525921 \\cdot 10^{-14} i \\left(50000000000000.0 \\dot{x_0} + \\omega x_{0} \\left(5000000000000.0 + 49749371855331.0 i\\right)\\right) e^{\\omega t \\left(-0.1 + 0.99498743710662 i\\right)}}{\\omega}$"
      ],
      "text/plain": [
       "Eq(x(t), (0.502518907629606*I*\\dot{x_0}/omega + 0.5*x_0 + 0.0502518907629606*I*x_0)*exp(omega*t*(-0.1 - 0.99498743710662*I)) - 1.00503781525921e-14*I*(50000000000000.0*\\dot{x_0} + omega*x_0*(5000000000000.0 + 49749371855331.0*I))*exp(omega*t*(-0.1 + 0.99498743710662*I))/omega)"
      ]
     },
     "execution_count": 52,
     "metadata": {},
     "output_type": "execute_result"
    }
   ],
   "source": [
    "g_sub = 0.1*2*w\n",
    "\n",
    "eq_sub = eq_damped.subs(g, g_sub)\n",
    "sol_sub = sp.dsolve(eq_sub, x_simple,ics = CI) #ics = CI\n",
    "sol_sub"
   ]
  },
  {
   "cell_type": "code",
   "execution_count": 53,
   "metadata": {},
   "outputs": [
    {
     "data": {
      "text/latex": [
       "$\\displaystyle x{\\left(t \\right)} = \\frac{- 1.00503781525921 \\cdot 10^{-14} i \\left(50000000000000.0 \\dot{x_0} + \\omega x_{0} \\left(5000000000000.0 + 49749371855331.0 i\\right)\\right) e^{- \\omega t \\left(0.1 - 0.99498743710662 i\\right)} + \\left(0.502518907629606 i \\dot{x_0} + \\omega x_{0} \\left(0.5 + 0.0502518907629606 i\\right)\\right) e^{- \\omega t \\left(0.1 + 0.99498743710662 i\\right)}}{\\omega}$"
      ],
      "text/plain": [
       "Eq(x(t), (-1.00503781525921e-14*I*(50000000000000.0*\\dot{x_0} + omega*x_0*(5000000000000.0 + 49749371855331.0*I))*exp(-omega*t*(0.1 - 0.99498743710662*I)) + (0.502518907629606*I*\\dot{x_0} + omega*x_0*(0.5 + 0.0502518907629606*I))*exp(-omega*t*(0.1 + 0.99498743710662*I)))/omega)"
      ]
     },
     "execution_count": 53,
     "metadata": {},
     "output_type": "execute_result"
    }
   ],
   "source": [
    "sol_sub = sol_sub.rewrite(sp.cos).simplify()\n",
    "sol_sub"
   ]
  },
  {
   "cell_type": "code",
   "execution_count": 54,
   "metadata": {},
   "outputs": [
    {
     "data": {
      "text/plain": [
       "[<matplotlib.lines.Line2D at 0x7f7aa6990f90>]"
      ]
     },
     "execution_count": 54,
     "metadata": {},
     "output_type": "execute_result"
    },
    {
     "data": {
      "image/png": "[encoded data removed]",
      "text/plain": [
       "<Figure size 432x288 with 1 Axes>"
      ]
     },
     "metadata": {
      "needs_background": "light"
     },
     "output_type": "display_data"
    }
   ],
   "source": [
    "x_sub = sp.lambdify(t, sol_sub.subs([(w, w_num), (x0, x0_num), (x0dot, x0dot_num)]).rhs, 'numpy')\n",
    "\n",
    "x_sub_plot = x_sub(t_plot)\n",
    "plt.plot(t_plot, x_sub_plot,color='m')"
   ]
  },
  {
   "cell_type": "code",
   "execution_count": 69,
   "metadata": {},
   "outputs": [
    {
     "data": {
      "image/png": "[encoded data removed]",
      "text/plain": [
       "<Figure size 432x288 with 1 Axes>"
      ]
     },
     "metadata": {
      "needs_background": "light"
     },
     "output_type": "display_data"
    }
   ],
   "source": [
    "# plt.plot(t_plot,x_sobre_plot,t_plot,x_crit_plot,t_plot,x_sub_plot)\n",
    "plt.plot(t_plot,x_simple_plot,c='g')\n",
    "plt.plot(t_plot,x_sobre_plot,c='m')\n",
    "plt.plot(t_plot,x_crit_plot,c='c')\n",
    "plt.plot(t_plot,x_sub_plot,c='y')\n",
    "plt.legend(['Simple','Sobreamortiguado','A.Crítico','Subamortiguado'],loc=1)\n",
    "plt.grid()\n",
    "plt.ylim([-6,6])\n",
    "plt.title('Oscilaciones')\n",
    "plt.xlabel('t')\n",
    "plt.ylabel('x')\n",
    "plt.show()"
   ]
  },
  {
   "cell_type": "markdown",
   "metadata": {},
   "source": [
    "# Sistema de ecuaciones diferenciales"
   ]
  },
  {
   "cell_type": "markdown",
   "metadata": {},
   "source": [
    "En una serie radioactiva con dos nucleidos diferentes con concentraciones $N_1(t)$ y $N_2(t)$, se tiene\n",
    "\n",
    "\\begin{align}\n",
    "\\frac{dN_1}{dt} &= -\\lambda_1 N_1 \\\\\n",
    "\\frac{dN_2}{dt} &= -\\lambda_1 N_1 - \\lambda_2 N_2\\\\\n",
    "\\end{align}\n",
    "\n",
    "En $t = 0$, $N_1(0) = N_0$ y $N_2(0) = 0$ "
   ]
  },
  {
   "cell_type": "code",
   "execution_count": 78,
   "metadata": {},
   "outputs": [
    {
     "data": {
      "text/plain": [
       "<matplotlib.legend.Legend at 0x7f7aa48dd5d0>"
      ]
     },
     "execution_count": 78,
     "metadata": {},
     "output_type": "execute_result"
    },
    {
     "data": {
      "image/png": "[encoded data removed]",
      "text/plain": [
       "<Figure size 432x288 with 1 Axes>"
      ]
     },
     "metadata": {
      "needs_background": "light"
     },
     "output_type": "display_data"
    }
   ],
   "source": [
    "N1= sp.Function('N_1')(t)\n",
    "N2= sp.Function('N_2')(t)\n",
    "#l1, l2 = sp.symbols('lambda_1, lambda_2')\n",
    "\n",
    "l1_num = 0.5\n",
    "l2_num = 0.7\n",
    "\n",
    "eq1 = sp.Eq(sp.diff(N1),  -l1_num*N1)\n",
    "eq2 = sp.Eq(sp.diff(N2),  l1_num*N1 - l2_num*N2)\n",
    "\n",
    "#Agrupar ecuaciones en una lista\n",
    "eqs = [eq1, eq2]\n",
    "\n",
    "sol_sist = sp.dsolve(eqs, [N1, N2], ics = {N1.subs(t, 0): N_0, N2.subs(t, 0): 0})\n",
    "N1_sol, N2_sol = sol_sist\n",
    "\n",
    "N1_num = sp.lambdify(t, N1_sol.subs(N_0, N0_num).rhs, 'numpy')\n",
    "N2_num = sp.lambdify(t, N2_sol.subs(N_0, N0_num).rhs, 'numpy')\n",
    "\n",
    "N1_plot = N1_num(t_plot)   \n",
    "N2_plot = N2_num(t_plot)\n",
    "\n",
    "plt.plot(t_plot, N1_plot, t_plot, N2_plot)\n",
    "plt.legend(['N1', 'N2'])"
   ]
  },
  {
   "cell_type": "code",
   "execution_count": null,
   "metadata": {},
   "outputs": [],
   "source": []
  }
 ],
 "metadata": {
  "kernelspec": {
   "display_name": "Python 3",
   "language": "python",
   "name": "python3"
  },
  "language_info": {
   "codemirror_mode": {
    "name": "ipython",
    "version": 3
   },
   "file_extension": ".py",
   "mimetype": "text/x-python",
   "name": "python",
   "nbconvert_exporter": "python",
   "pygments_lexer": "ipython3",
   "version": "3.7.4"
  }
 },
 "nbformat": 4,
 "nbformat_minor": 4
}
